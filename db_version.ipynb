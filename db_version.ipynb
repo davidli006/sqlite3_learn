{
 "cells": [
  {
   "cell_type": "code",
   "execution_count": 1,
   "id": "a2385697",
   "metadata": {},
   "outputs": [],
   "source": [
    "from sqlalchemy import create_engine"
   ]
  },
  {
   "cell_type": "code",
   "execution_count": 2,
   "id": "d595fdc5",
   "metadata": {},
   "outputs": [],
   "source": [
    "import pandas as pd"
   ]
  },
  {
   "cell_type": "code",
   "execution_count": 3,
   "id": "f26a7952",
   "metadata": {},
   "outputs": [],
   "source": [
    "from db_model import Province, City, County, Town, Village, engine"
   ]
  },
  {
   "cell_type": "code",
   "execution_count": 4,
   "id": "6346c10e",
   "metadata": {},
   "outputs": [],
   "source": [
    "df = pd.read_sql(\"select * from `area_code_2022`;\", con=engine)"
   ]
  },
  {
   "cell_type": "code",
   "execution_count": 5,
   "id": "45b3d0d1",
   "metadata": {},
   "outputs": [],
   "source": [
    "model_list = [Province, City, County, Town, Village]"
   ]
  },
  {
   "cell_type": "code",
   "execution_count": 6,
   "id": "0b883851",
   "metadata": {},
   "outputs": [],
   "source": [
    "area_list = []\n",
    "for k, Area in enumerate(model_list):\n",
    "    df_ = df[df.level == k+1]\n",
    "    for p in df_.to_dict(\"records\"):\n",
    "        area = Area(\n",
    "            name=p.get(\"name\"), \n",
    "            parent_code=p.get(\"pcode\"), \n",
    "            ad_code=p.get(\"code\"), \n",
    "            card_code=str(p.get(\"code\"))[:6],\n",
    "            level=k+1\n",
    "        )\n",
    "        area_list.append(area)\n",
    "        \n",
    "    Area.add_all(area_list)\n",
    "    area_list = []"
   ]
  },
  {
   "cell_type": "code",
   "execution_count": 18,
   "id": "e6bbe1f5",
   "metadata": {},
   "outputs": [],
   "source": [
    "import time"
   ]
  },
  {
   "cell_type": "code",
   "execution_count": null,
   "id": "788d07e2",
   "metadata": {},
   "outputs": [],
   "source": []
  },
  {
   "cell_type": "code",
   "execution_count": null,
   "id": "860d78ca",
   "metadata": {},
   "outputs": [],
   "source": []
  },
  {
   "cell_type": "code",
   "execution_count": null,
   "id": "da6bf6e7",
   "metadata": {},
   "outputs": [],
   "source": []
  },
  {
   "cell_type": "code",
   "execution_count": null,
   "id": "9de2ca19",
   "metadata": {},
   "outputs": [],
   "source": []
  },
  {
   "cell_type": "code",
   "execution_count": null,
   "id": "2ffc4919",
   "metadata": {},
   "outputs": [],
   "source": []
  },
  {
   "cell_type": "code",
   "execution_count": null,
   "id": "cbf70d2e",
   "metadata": {},
   "outputs": [],
   "source": []
  },
  {
   "cell_type": "code",
   "execution_count": null,
   "id": "a1cedf0a",
   "metadata": {},
   "outputs": [],
   "source": []
  },
  {
   "cell_type": "code",
   "execution_count": null,
   "id": "6c5d359d",
   "metadata": {},
   "outputs": [],
   "source": []
  },
  {
   "cell_type": "code",
   "execution_count": null,
   "id": "8c210344",
   "metadata": {},
   "outputs": [],
   "source": []
  },
  {
   "cell_type": "code",
   "execution_count": null,
   "id": "ca04ec35",
   "metadata": {},
   "outputs": [],
   "source": []
  },
  {
   "cell_type": "code",
   "execution_count": null,
   "id": "63f83578",
   "metadata": {},
   "outputs": [],
   "source": []
  },
  {
   "cell_type": "code",
   "execution_count": null,
   "id": "17cc8833",
   "metadata": {},
   "outputs": [],
   "source": []
  }
 ],
 "metadata": {
  "kernelspec": {
   "display_name": "Python 3 (ipykernel)",
   "language": "python",
   "name": "python3"
  },
  "language_info": {
   "codemirror_mode": {
    "name": "ipython",
    "version": 3
   },
   "file_extension": ".py",
   "mimetype": "text/x-python",
   "name": "python",
   "nbconvert_exporter": "python",
   "pygments_lexer": "ipython3",
   "version": "3.9.7"
  }
 },
 "nbformat": 4,
 "nbformat_minor": 5
}