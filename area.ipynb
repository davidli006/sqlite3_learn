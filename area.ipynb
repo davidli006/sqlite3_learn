{
 "cells": [
  {
   "cell_type": "code",
   "execution_count": 1,
   "id": "5e370096",
   "metadata": {},
   "outputs": [],
   "source": [
    "import requests\n",
    "from bs4 import BeautifulSoup"
   ]
  },
  {
   "cell_type": "code",
   "execution_count": 2,
   "id": "3897d31c",
   "metadata": {},
   "outputs": [],
   "source": [
    "host_url = \"http://www.cn56.net.cn/\""
   ]
  },
  {
   "cell_type": "code",
   "execution_count": 3,
   "id": "10d74fc5",
   "metadata": {},
   "outputs": [],
   "source": [
    "headers = {\n",
    "    \"User-Agent\": \"Mozilla/5.0 (Windows NT 10.0; Win64; x64) AppleWebKit/537.36 (KHTML, like Gecko) Chrome/101.0.4951.41 Safari/537.36 Edg/101.0.1210.32\",\n",
    "\n",
    "}"
   ]
  },
  {
   "cell_type": "code",
   "execution_count": 4,
   "id": "e69de6ac",
   "metadata": {},
   "outputs": [],
   "source": [
    "def get_response(route: str):\n",
    "    if route.startswith(\"http\"):\n",
    "        res = requests.get(url=route, headers=headers)\n",
    "    else:\n",
    "        res = requests.get(url=f\"{host_url}{route}\", headers=headers)\n",
    "    \n",
    "    res.encoding = 'GBK'\n",
    "    return res"
   ]
  },
  {
   "cell_type": "code",
   "execution_count": 5,
   "id": "41fdc8cb",
   "metadata": {},
   "outputs": [],
   "source": [
    "index_html = get_response(\"diming\")"
   ]
  },
  {
   "cell_type": "code",
   "execution_count": 6,
   "id": "75a28d0d",
   "metadata": {},
   "outputs": [],
   "source": [
    "tree = BeautifulSoup(index_html.text)"
   ]
  },
  {
   "cell_type": "code",
   "execution_count": 7,
   "id": "6511f216",
   "metadata": {},
   "outputs": [],
   "source": [
    "div_li = tree.find(\"div\", {\"class\": \"dmcity\"}).find_all(\"li\")"
   ]
  },
  {
   "cell_type": "markdown",
   "id": "f2a67aef",
   "metadata": {},
   "source": [
    "# 获取省份"
   ]
  },
  {
   "cell_type": "code",
   "execution_count": 8,
   "id": "a17d6a73",
   "metadata": {},
   "outputs": [],
   "source": [
    "province_list = [h.get(\"href\") for h in div_li.pop(0).find_all(\"a\")]"
   ]
  },
  {
   "cell_type": "code",
   "execution_count": 9,
   "id": "ecba0029",
   "metadata": {},
   "outputs": [],
   "source": [
    "for p in div_li:\n",
    "    province_list.append(p.find(\"b\").find(\"a\").get(\"href\"))"
   ]
  },
  {
   "cell_type": "code",
   "execution_count": 10,
   "id": "86abc594",
   "metadata": {},
   "outputs": [
    {
     "data": {
      "text/plain": [
       "34"
      ]
     },
     "execution_count": 10,
     "metadata": {},
     "output_type": "execute_result"
    }
   ],
   "source": [
    "len(province_list)"
   ]
  },
  {
   "cell_type": "code",
   "execution_count": 11,
   "id": "7332df1d",
   "metadata": {},
   "outputs": [],
   "source": [
    "url = province_list[0]"
   ]
  },
  {
   "cell_type": "markdown",
   "id": "9b47f14a",
   "metadata": {},
   "source": [
    "## 处理省份"
   ]
  },
  {
   "cell_type": "code",
   "execution_count": 12,
   "id": "c82607be",
   "metadata": {},
   "outputs": [],
   "source": [
    "res = get_response(url)"
   ]
  },
  {
   "cell_type": "code",
   "execution_count": 13,
   "id": "6c9a155f",
   "metadata": {},
   "outputs": [],
   "source": [
    "province_tree = BeautifulSoup(res.text)"
   ]
  },
  {
   "cell_type": "code",
   "execution_count": 31,
   "id": "dbfcddb2",
   "metadata": {},
   "outputs": [],
   "source": [
    "info = province_tree.find(\"table\", {\"width\": \"345\", \"align\": \"center\"}).find_all(\"tr\")"
   ]
  },
  {
   "cell_type": "markdown",
   "id": "557b31ff",
   "metadata": {},
   "source": [
    "#### 区号"
   ]
  },
  {
   "cell_type": "code",
   "execution_count": 32,
   "id": "4d77a78e",
   "metadata": {},
   "outputs": [],
   "source": [
    "ad_code = info[-1].text.split(\":\")[-1].split(\"-\")[0]"
   ]
  },
  {
   "cell_type": "markdown",
   "id": "b66b13d1",
   "metadata": {},
   "source": [
    "#### 行政中心"
   ]
  },
  {
   "cell_type": "code",
   "execution_count": 36,
   "id": "6faeaf69",
   "metadata": {},
   "outputs": [],
   "source": [
    "center_area = info[0].find(\"a\").text"
   ]
  },
  {
   "cell_type": "markdown",
   "id": "919e91c4",
   "metadata": {},
   "source": [
    "#### 简称"
   ]
  },
  {
   "cell_type": "code",
   "execution_count": 44,
   "id": "92d9c408",
   "metadata": {},
   "outputs": [],
   "source": [
    "car_code = info[1].find(\"td\").text.split(\":\")[-1]"
   ]
  },
  {
   "cell_type": "markdown",
   "id": "0dc032b6",
   "metadata": {},
   "source": [
    "#### 名称"
   ]
  },
  {
   "cell_type": "code",
   "execution_count": 19,
   "id": "ad379161",
   "metadata": {},
   "outputs": [],
   "source": [
    "href = url.split(\"/\")[-1]"
   ]
  },
  {
   "cell_type": "code",
   "execution_count": 22,
   "id": "03c6ae1c",
   "metadata": {},
   "outputs": [
    {
     "data": {
      "text/plain": [
       "'北京'"
      ]
     },
     "execution_count": 22,
     "metadata": {},
     "output_type": "execute_result"
    }
   ],
   "source": [
    "name = province_tree.find(\"a\", {\"href\": href}).text"
   ]
  },
  {
   "cell_type": "markdown",
   "id": "c3abbc31",
   "metadata": {},
   "source": [
    "# 市区列表"
   ]
  },
  {
   "cell_type": "code",
   "execution_count": 53,
   "id": "88bb9380",
   "metadata": {},
   "outputs": [],
   "source": [
    "city_list = []\n",
    "table = province_tree.find(\"table\", {\"width\": 640})"
   ]
  },
  {
   "cell_type": "code",
   "execution_count": 54,
   "id": "b9883d32",
   "metadata": {},
   "outputs": [],
   "source": [
    "for s in table.find_all(\"strong\"):\n",
    "    a = s.find(\"a\")\n",
    "    if a:\n",
    "        city_list.append(a.get(\"href\"))"
   ]
  },
  {
   "cell_type": "markdown",
   "id": "043223d0",
   "metadata": {},
   "source": [
    "# 获取市区"
   ]
  },
  {
   "cell_type": "code",
   "execution_count": 56,
   "id": "9b58e364",
   "metadata": {},
   "outputs": [],
   "source": [
    "url = city_list[0]"
   ]
  },
  {
   "cell_type": "code",
   "execution_count": 57,
   "id": "26b911b7",
   "metadata": {},
   "outputs": [],
   "source": [
    "res = get_response(f\"diming/{url}\")"
   ]
  },
  {
   "cell_type": "code",
   "execution_count": 60,
   "id": "0fa18d62",
   "metadata": {},
   "outputs": [],
   "source": [
    "city_tree = BeautifulSoup(res.text)"
   ]
  },
  {
   "cell_type": "code",
   "execution_count": 64,
   "id": "7ccc4e9a",
   "metadata": {},
   "outputs": [],
   "source": [
    "table = city_tree.find(\"div\", {\"class\": \"fr\"}).find(\"table\")"
   ]
  },
  {
   "cell_type": "markdown",
   "id": "755beb11",
   "metadata": {},
   "source": [
    "## 市信息处理"
   ]
  },
  {
   "cell_type": "code",
   "execution_count": 67,
   "id": "0c38c703",
   "metadata": {},
   "outputs": [],
   "source": [
    "tr_list = table.find_all(\"tr\")"
   ]
  },
  {
   "cell_type": "markdown",
   "id": "fed0e1bd",
   "metadata": {},
   "source": [
    "#### 行政区代码"
   ]
  },
  {
   "cell_type": "code",
   "execution_count": 74,
   "id": "bc695afe",
   "metadata": {},
   "outputs": [],
   "source": [
    "tr = tr_list[0].find_all(\"td\")"
   ]
  },
  {
   "cell_type": "code",
   "execution_count": 79,
   "id": "9e924584",
   "metadata": {},
   "outputs": [],
   "source": [
    "ad_code = tr[0].text.split(\":\")[-1]"
   ]
  },
  {
   "cell_type": "markdown",
   "id": "719b7d5c",
   "metadata": {},
   "source": [
    "#### 父级代码"
   ]
  },
  {
   "cell_type": "code",
   "execution_count": 86,
   "id": "ff8625d6",
   "metadata": {},
   "outputs": [],
   "source": [
    "parent_code = ad_code[:-3]"
   ]
  },
  {
   "cell_type": "markdown",
   "id": "84354f2b",
   "metadata": {},
   "source": [
    "#### 身份证6位"
   ]
  },
  {
   "cell_type": "code",
   "execution_count": 83,
   "id": "b5339893",
   "metadata": {},
   "outputs": [],
   "source": [
    "card_code = tr[1].text.split(\":\")[-1]"
   ]
  },
  {
   "cell_type": "markdown",
   "id": "e3d60969",
   "metadata": {},
   "source": [
    "#### 长途区号"
   ]
  },
  {
   "cell_type": "code",
   "execution_count": 93,
   "id": "58b01633",
   "metadata": {},
   "outputs": [],
   "source": [
    "tr = tr_list[1].find_all(\"td\")"
   ]
  },
  {
   "cell_type": "code",
   "execution_count": 96,
   "id": "70b1625f",
   "metadata": {},
   "outputs": [],
   "source": [
    "phone_code = tr[0].text.split(\":\")[-1]"
   ]
  },
  {
   "cell_type": "markdown",
   "id": "ed2a80a6",
   "metadata": {},
   "source": [
    "#### 邮编"
   ]
  },
  {
   "cell_type": "code",
   "execution_count": 97,
   "id": "51394ec5",
   "metadata": {},
   "outputs": [],
   "source": [
    "mail_code = tr[1].text.split(\":\")[-1]"
   ]
  },
  {
   "cell_type": "markdown",
   "id": "d11d9725",
   "metadata": {},
   "source": [
    "#### 行政驻地"
   ]
  },
  {
   "cell_type": "code",
   "execution_count": 106,
   "id": "a1a6aadf",
   "metadata": {},
   "outputs": [],
   "source": [
    "center_area = tr_list[5].find(\"td\").text.split(\":\")[-1]"
   ]
  },
  {
   "cell_type": "markdown",
   "id": "0a85a108",
   "metadata": {},
   "source": [
    "#### 车牌号"
   ]
  },
  {
   "cell_type": "code",
   "execution_count": 102,
   "id": "331ed84f",
   "metadata": {},
   "outputs": [],
   "source": [
    "car_code = tr_list[3].find(\"td\").text.split(\":\")[-1]"
   ]
  },
  {
   "cell_type": "markdown",
   "id": "7a7da17e",
   "metadata": {},
   "source": [
    "#### 名称"
   ]
  },
  {
   "cell_type": "code",
   "execution_count": 90,
   "id": "12c297bb",
   "metadata": {},
   "outputs": [],
   "source": [
    "href = href = url.split(\"/\")[-1]"
   ]
  },
  {
   "cell_type": "code",
   "execution_count": 91,
   "id": "7f428a02",
   "metadata": {},
   "outputs": [],
   "source": [
    "name = city_tree.find(\"a\", {\"href\": href}).text"
   ]
  },
  {
   "cell_type": "code",
   "execution_count": 92,
   "id": "6c57847c",
   "metadata": {},
   "outputs": [
    {
     "data": {
      "text/plain": [
       "'东城区'"
      ]
     },
     "execution_count": 92,
     "metadata": {},
     "output_type": "execute_result"
    }
   ],
   "source": [
    "name"
   ]
  },
  {
   "cell_type": "markdown",
   "id": "5bc80331",
   "metadata": {},
   "source": [
    "# 下级区域列表"
   ]
  },
  {
   "cell_type": "code",
   "execution_count": 112,
   "id": "5cbff1c7",
   "metadata": {},
   "outputs": [],
   "source": [
    "next_city = [a.get(\"href\") for a in tr_list[-2].find_all(\"a\")]"
   ]
  },
  {
   "cell_type": "code",
   "execution_count": 113,
   "id": "cee48ff7",
   "metadata": {},
   "outputs": [
    {
     "data": {
      "text/plain": [
       "['dmisscszll.html',\n",
       " 'dmas6c6u12.html',\n",
       " 'dmisscszll-2.html',\n",
       " 'dmoaygg8fe.html',\n",
       " 'dms1g6rzau.html',\n",
       " 'dmlkwvtq_y.html',\n",
       " 'dm4mdh-oe4.html',\n",
       " 'dm55-7w0yp.html',\n",
       " 'dmml0d7o3t.html',\n",
       " 'dm5d9hlg8s.html',\n",
       " 'dmmyrr0e.html',\n",
       " 'dm0fhvclya.html',\n",
       " 'dmvvldwa9s.html',\n",
       " 'dm5vt77trd-2.html',\n",
       " 'dmqim04grj.html',\n",
       " 'dmsrb63g5i.html',\n",
       " 'dmhx83n-2e.html']"
      ]
     },
     "execution_count": 113,
     "metadata": {},
     "output_type": "execute_result"
    }
   ],
   "source": [
    "next_city"
   ]
  },
  {
   "cell_type": "code",
   "execution_count": null,
   "id": "c91c50bd",
   "metadata": {},
   "outputs": [],
   "source": []
  },
  {
   "cell_type": "code",
   "execution_count": null,
   "id": "1a485475",
   "metadata": {},
   "outputs": [],
   "source": []
  },
  {
   "cell_type": "code",
   "execution_count": null,
   "id": "a8f3ec3b",
   "metadata": {},
   "outputs": [],
   "source": []
  },
  {
   "cell_type": "code",
   "execution_count": null,
   "id": "193153c4",
   "metadata": {},
   "outputs": [],
   "source": []
  },
  {
   "cell_type": "code",
   "execution_count": null,
   "id": "764ba824",
   "metadata": {},
   "outputs": [],
   "source": []
  },
  {
   "cell_type": "code",
   "execution_count": null,
   "id": "a71655f1",
   "metadata": {},
   "outputs": [],
   "source": []
  },
  {
   "cell_type": "code",
   "execution_count": null,
   "id": "101cd4de",
   "metadata": {},
   "outputs": [],
   "source": []
  },
  {
   "cell_type": "code",
   "execution_count": null,
   "id": "a2d34c62",
   "metadata": {},
   "outputs": [],
   "source": []
  },
  {
   "cell_type": "code",
   "execution_count": null,
   "id": "a5a622c6",
   "metadata": {},
   "outputs": [],
   "source": []
  },
  {
   "cell_type": "code",
   "execution_count": null,
   "id": "28d17984",
   "metadata": {},
   "outputs": [],
   "source": []
  },
  {
   "cell_type": "code",
   "execution_count": null,
   "id": "ad549a73",
   "metadata": {},
   "outputs": [],
   "source": []
  },
  {
   "cell_type": "code",
   "execution_count": null,
   "id": "9efac137",
   "metadata": {},
   "outputs": [],
   "source": []
  },
  {
   "cell_type": "code",
   "execution_count": null,
   "id": "cec7aa5b",
   "metadata": {},
   "outputs": [],
   "source": []
  },
  {
   "cell_type": "code",
   "execution_count": null,
   "id": "1d815d6c",
   "metadata": {},
   "outputs": [],
   "source": []
  },
  {
   "cell_type": "code",
   "execution_count": null,
   "id": "1d5b0a28",
   "metadata": {},
   "outputs": [],
   "source": []
  },
  {
   "cell_type": "code",
   "execution_count": null,
   "id": "ed9f4785",
   "metadata": {},
   "outputs": [],
   "source": []
  },
  {
   "cell_type": "code",
   "execution_count": null,
   "id": "684f3ac7",
   "metadata": {},
   "outputs": [],
   "source": []
  },
  {
   "cell_type": "code",
   "execution_count": null,
   "id": "5ab0959b",
   "metadata": {},
   "outputs": [],
   "source": []
  },
  {
   "cell_type": "code",
   "execution_count": null,
   "id": "1cf4ca8c",
   "metadata": {},
   "outputs": [],
   "source": []
  }
 ],
 "metadata": {
  "kernelspec": {
   "display_name": "Python 3 (ipykernel)",
   "language": "python",
   "name": "python3"
  },
  "language_info": {
   "codemirror_mode": {
    "name": "ipython",
    "version": 3
   },
   "file_extension": ".py",
   "mimetype": "text/x-python",
   "name": "python",
   "nbconvert_exporter": "python",
   "pygments_lexer": "ipython3",
   "version": "3.9.7"
  }
 },
 "nbformat": 4,
 "nbformat_minor": 5
}
